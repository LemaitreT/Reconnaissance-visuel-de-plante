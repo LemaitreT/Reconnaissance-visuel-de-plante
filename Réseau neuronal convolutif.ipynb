{
 "cells": [
  {
   "cell_type": "markdown",
   "metadata": {},
   "source": [
    "# Réseau neuronal convolutif"
   ]
  },
  {
   "cell_type": "markdown",
   "metadata": {},
   "source": [
    "## Imports"
   ]
  },
  {
   "cell_type": "code",
   "execution_count": 3,
   "metadata": {},
   "outputs": [],
   "source": [
    "import numpy as np \n",
    "import shutil # pour les dossiers\n",
    "import pandas as pd\n",
    "import json\n",
    "import torch\n",
    "import torch.nn as nn\n",
    "import torch.optim as optim\n",
    "from torch.optim import lr_scheduler\n",
    "import torchvision\n",
    "from torchvision import datasets, models, transforms\n",
    "from sklearn.model_selection import train_test_split\n",
    "import matplotlib.pyplot as plt\n",
    "import time\n",
    "import os\n",
    "import copy"
   ]
  },
  {
   "cell_type": "markdown",
   "metadata": {},
   "source": [
    "## Chargement des images"
   ]
  },
  {
   "cell_type": "code",
   "execution_count": 4,
   "metadata": {},
   "outputs": [],
   "source": [
    "def metrique(path):\n",
    "    files = os.listdir(path);\n",
    "    contenu = [];\n",
    "    for file in files:\n",
    "        if file.endswith('.json'):\n",
    "            openFile = open(path+file, \"r\");\n",
    "            contenu.append(json.loads(openFile.read())[\"Image\"]);\n",
    "            openFile.close();\n",
    "    return contenu;"
   ]
  },
  {
   "cell_type": "code",
   "execution_count": 5,
   "metadata": {},
   "outputs": [
    {
     "name": "stdout",
     "output_type": "stream",
     "text": [
      "50\n"
     ]
    }
   ],
   "source": [
    "chemin = \"./train/\";\n",
    "contenu = [];\n",
    "if not os.path.isdir(chemin):\n",
    "    print('Rajouter le dossier train dans le dossier courant :) ! ');\n",
    "else :\n",
    "    contenu = metrique(chemin);\n",
    "df = pd.DataFrame(contenu)\n",
    "# on laisse Species car c'est égale au nombre de classe\n",
    "df.drop([\"Genus\",\"ClassId\",\"Family\",\"Vote\",\"Location\",\"Latitude\",\"Longitude\",\"Date\",\"Author\",\"Content\",\"MediaId\", \"LearnTag\", \"ImageId2014\",\"ObservationId2014\",\"YearInCLEF\",\"ObservationId\"], axis='columns', inplace=True)\n",
    "df = df.drop_duplicates()\n",
    "classe  = df.to_numpy();\n",
    "print(len(classe))\n"
   ]
  },
  {
   "cell_type": "code",
   "execution_count": 6,
   "metadata": {},
   "outputs": [],
   "source": [
    "X = [];\n",
    "Y = [];\n",
    "files = os.listdir(\"./train\")\n",
    "for file in files:\n",
    "    if file.endswith('.jpg'):\n",
    "        X.append(file);\n",
    "        nameFile = file.split('.')[0];\n",
    "        for file_class in files:\n",
    "            nameFileAutre = file_class.split('.')[0];\n",
    "            if nameFile==nameFileAutre and file_class.endswith('.json'):\n",
    "                fichierSrc = open(\"./train/\"+file_class, \"r\");\n",
    "                contenu = fichierSrc.read();\n",
    "                monJson = json.loads(contenu)\n",
    "                Y.append(monJson[\"Image\"][\"Species\"])\n",
    "                break;\n"
   ]
  },
  {
   "cell_type": "code",
   "execution_count": 7,
   "metadata": {},
   "outputs": [
    {
     "name": "stdout",
     "output_type": "stream",
     "text": [
      "OK\n"
     ]
    }
   ],
   "source": [
    "# on a bien une classe par image !\n",
    "if(len(X) == len(Y)):\n",
    "    print(\"OK\")\n",
    "else:\n",
    "    print(\"KO\")"
   ]
  },
  {
   "cell_type": "code",
   "execution_count": 8,
   "metadata": {},
   "outputs": [
    {
     "data": {
      "text/plain": [
       "'Salix caprea L.'"
      ]
     },
     "execution_count": 8,
     "metadata": {},
     "output_type": "execute_result"
    }
   ],
   "source": [
    "X_train, X_test, y_train, y_test = train_test_split(X, Y, test_size=0.33, random_state=42, stratify=Y)\n",
    "y_train[0]"
   ]
  },
  {
   "cell_type": "markdown",
   "metadata": {},
   "source": [
    "Mise en place de l'architecture dossier pour avoir les image_datasets"
   ]
  },
  {
   "cell_type": "code",
   "execution_count": 10,
   "metadata": {},
   "outputs": [
    {
     "name": "stdout",
     "output_type": "stream",
     "text": [
      "./CNN/train/Salix caprea L.30108.jpg\n",
      "30108.jpg\n"
     ]
    }
   ],
   "source": [
    "# Création des répertoires ! \n",
    "directory = \"CNN\"\n",
    "for classe in y_train : \n",
    "    if(not os.path.isdir('./CNN/train/'+classe)):\n",
    "        os.mkdir('./CNN/train/'+classe)\n",
    "        \n",
    "for classe in y_test : \n",
    "    if(not os.path.isdir('./CNN/val/'+classe)):\n",
    "        os.mkdir('./CNN/val/'+classe)\n",
    "        \n",
    "# on met les images dans les répertoires precédents\n",
    "\n",
    "# on supprime le contenu\n",
    "\n",
    "directorys=os.listdir('./CNN/train/')\n",
    "for i in range(0,len(directory)):\n",
    "    files=os.listdir('./CNN/train/'+directorys[i])\n",
    "    for j in range(0,len(files)):\n",
    "        os.remove('./CNN/train/'+directorys[i]+'/'+files[j])\n",
    "\n",
    "directorys=os.listdir('./CNN/val/')\n",
    "for i in range(0,len(directory)):\n",
    "    files=os.listdir('./CNN/val/'+directorys[i])\n",
    "    for j in range(0,len(files)):\n",
    "        os.remove('./CNN/val/'+directorys[i]+'/'+files[j])\n",
    "\n",
    "# on met le contenu\n",
    "shutil.copyfile('./train/'+X_train[0],'./CNN/train/'+y_train[0]+'/'+X_train[0])\n",
    "\n",
    "print('./CNN/train/'+y_train[0]+X_train[0])\n",
    "print(X_train[0])\n",
    "for i in range(len(X_train)):\n",
    "    shutil.copyfile('./train/'+X_train[i],'./CNN/train/'+y_train[i]+'/'+X_train[i])\n",
    "    \n",
    "for i in range(len(X_test)):\n",
    "    shutil.copyfile('./train/'+X_test[i],'./CNN/val/'+y_test[i]+'/'+X_test[i])\n",
    "    "
   ]
  },
  {
   "cell_type": "code",
   "execution_count": 17,
   "metadata": {},
   "outputs": [],
   "source": [
    "data_transforms = {\n",
    "    'train': transforms.Compose([\n",
    "        transforms.RandomResizedCrop(224),\n",
    "        transforms.RandomHorizontalFlip(),\n",
    "        transforms.ToTensor(),\n",
    "        transforms.Normalize([0.485, 0.456, 0.406], [0.229, 0.224, 0.225])\n",
    "    ]),\n",
    "    'val': transforms.Compose([\n",
    "        transforms.Resize(256),\n",
    "        transforms.CenterCrop(224),\n",
    "        transforms.ToTensor(),\n",
    "        transforms.Normalize([0.485, 0.456, 0.406], [0.229, 0.224, 0.225])\n",
    "    ]),\n",
    "}\n",
    "data_dir = 'CNN'\n",
    "image_datasets = {x: datasets.ImageFolder(os.path.join(data_dir, x),\n",
    "                                          data_transforms[x])\n",
    "                  for x in ['train', 'val']}\n",
    "\n",
    "dataloaders = {x: torch.utils.data.DataLoader(image_datasets[x], batch_size=4,\n",
    "                                             shuffle=True, num_workers=4)\n",
    "              for x in ['train', 'val']}\n",
    "\n",
    "dataset_sizes = {x: len(image_datasets[x]) for x in ['train', 'val']}\n",
    "\n",
    "class_names = image_datasets['train'].classes\n",
    "#print(pd.DataFrame(class_names))\n",
    "\n"
   ]
  },
  {
   "cell_type": "code",
   "execution_count": 18,
   "metadata": {},
   "outputs": [],
   "source": [
    "\n",
    "\n"
   ]
  },
  {
   "cell_type": "code",
   "execution_count": 23,
   "metadata": {},
   "outputs": [],
   "source": [
    "model = models.densenet121(pretrained=True)"
   ]
  },
  {
   "cell_type": "code",
   "execution_count": 14,
   "metadata": {},
   "outputs": [],
   "source": [
    "def train_model(model, criterion, optimizer, scheduler, num_epochs=25):\n",
    "    since = time.time()\n",
    "\n",
    "    best_model_wts = copy.deepcopy(model.state_dict())\n",
    "    best_acc = 0.0\n",
    "\n",
    "    for epoch in range(num_epochs):\n",
    "        print('Epoch {}/{}'.format(epoch, num_epochs - 1))\n",
    "        print('-' * 10)\n",
    "\n",
    "        # Each epoch has a training and validation phase\n",
    "        for phase in ['train', 'val']:\n",
    "            if phase == 'train':\n",
    "                model.train()  # Set model to training mode\n",
    "            else:\n",
    "                model.eval()   # Set model to evaluate mode\n",
    "\n",
    "            running_loss = 0.0\n",
    "            running_corrects = 0\n",
    "\n",
    "            # Iterate over data.\n",
    "            for inputs, labels in dataloaders[phase]:\n",
    "                inputs = inputs.to(device)\n",
    "                labels = labels.to(device)\n",
    "\n",
    "                # zero the parameter gradients\n",
    "                optimizer.zero_grad()\n",
    "\n",
    "                # forward\n",
    "                # track history if only in train\n",
    "                with torch.set_grad_enabled(phase == 'train'):\n",
    "                    outputs = model(inputs)\n",
    "                    _, preds = torch.max(outputs, 1)\n",
    "                    loss = criterion(outputs, labels)\n",
    "\n",
    "                    # backward + optimize only if in training phase\n",
    "                    if phase == 'train':\n",
    "                        loss.backward()\n",
    "                        optimizer.step()\n",
    "\n",
    "                # statistics\n",
    "                running_loss += loss.item() * inputs.size(0)\n",
    "                running_corrects += torch.sum(preds == labels.data)\n",
    "            if phase == 'train':\n",
    "                scheduler.step()\n",
    "\n",
    "            epoch_loss = running_loss / dataset_sizes[phase]\n",
    "            epoch_acc = running_corrects.double() / dataset_sizes[phase]\n",
    "\n",
    "            print('{} Loss: {:.4f} Acc: {:.4f}'.format(\n",
    "                phase, epoch_loss, epoch_acc))\n",
    "\n",
    "            # deep copy the model\n",
    "            if phase == 'val' and epoch_acc > best_acc:\n",
    "                best_acc = epoch_acc\n",
    "                best_model_wts = copy.deepcopy(model.state_dict())\n",
    "\n",
    "        print()\n",
    "\n",
    "    time_elapsed = time.time() - since\n",
    "    print('Training complete in {:.0f}m {:.0f}s'.format(\n",
    "        time_elapsed // 60, time_elapsed % 60))\n",
    "    print('Best val Acc: {:4f}'.format(best_acc))\n",
    "\n",
    "    # load best model weights\n",
    "    model.load_state_dict(best_model_wts)\n",
    "    return model"
   ]
  },
  {
   "cell_type": "code",
   "execution_count": 15,
   "metadata": {},
   "outputs": [],
   "source": [
    "model = models.densenet121(pretrained=True)\n"
   ]
  },
  {
   "cell_type": "code",
   "execution_count": 16,
   "metadata": {},
   "outputs": [
    {
     "ename": "NameError",
     "evalue": "name 'criterion' is not defined",
     "output_type": "error",
     "traceback": [
      "\u001b[0;31m---------------------------------------------------------------------------\u001b[0m",
      "\u001b[0;31mNameError\u001b[0m                                 Traceback (most recent call last)",
      "\u001b[0;32m<ipython-input-16-9a98969c2dcb>\u001b[0m in \u001b[0;36m<module>\u001b[0;34m\u001b[0m\n\u001b[0;32m----> 1\u001b[0;31m model = train_model(model, criterion, optimizer_ft, exp_lr_scheduler,\n\u001b[0m\u001b[1;32m      2\u001b[0m                        num_epochs=25)\n",
      "\u001b[0;31mNameError\u001b[0m: name 'criterion' is not defined"
     ]
    }
   ],
   "source": [
    "model = train_model(model, criterion, optimizer_ft, exp_lr_scheduler,\n",
    "                       num_epochs=25)"
   ]
  }
 ],
 "metadata": {
  "kernelspec": {
   "display_name": "Python 3",
   "language": "python",
   "name": "python3"
  },
  "language_info": {
   "codemirror_mode": {
    "name": "ipython",
    "version": 3
   },
   "file_extension": ".py",
   "mimetype": "text/x-python",
   "name": "python",
   "nbconvert_exporter": "python",
   "pygments_lexer": "ipython3",
   "version": "3.5.2"
  }
 },
 "nbformat": 4,
 "nbformat_minor": 2
}
