{
 "cells": [
  {
   "cell_type": "markdown",
   "metadata": {},
   "source": [
    "# Réseau neuronal convolutif"
   ]
  },
  {
   "cell_type": "markdown",
   "metadata": {},
   "source": [
    "## Imports"
   ]
  },
  {
   "cell_type": "code",
   "execution_count": 1,
   "metadata": {},
   "outputs": [],
   "source": [
    "import numpy as np \n",
    "import pandas as pd\n",
    "import json\n",
    "import torch\n",
    "import torch.nn as nn\n",
    "import torch.optim as optim\n",
    "from torch.optim import lr_scheduler\n",
    "import torchvision\n",
    "from torchvision import datasets, models, transforms\n",
    "import matplotlib.pyplot as plt\n",
    "import time\n",
    "import os\n",
    "import copy"
   ]
  },
  {
   "cell_type": "markdown",
   "metadata": {},
   "source": [
    "## Chargement des images"
   ]
  },
  {
   "cell_type": "code",
   "execution_count": 2,
   "metadata": {},
   "outputs": [],
   "source": [
    "def metrique(path):\n",
    "    files = os.listdir(path);\n",
    "    contenu = [];\n",
    "    for file in files:\n",
    "        if file.endswith('.json'):\n",
    "            openFile = open(path+file, \"r\");\n",
    "            contenu.append(json.loads(openFile.read())[\"Image\"]);\n",
    "            openFile.close();\n",
    "    return contenu;"
   ]
  },
  {
   "cell_type": "code",
   "execution_count": 3,
   "metadata": {},
   "outputs": [],
   "source": [
    "chemin = os.getcwd()+\"/train/\";\n",
    "contenu = [];\n",
    "if not os.path.isdir(chemin):\n",
    "    print('Rajouter le dossier train dans le dossier courant :) ! ');\n",
    "else :\n",
    "    contenu = metrique(chemin);\n",
    "df = pd.DataFrame(contenu)\n",
    "df.drop([\"Genus\",\"Family\",\"Vote\",\"Location\",\"Latitude\",\"Longitude\",\"Date\",\"Author\",\"Content\",\"MediaId\", \"LearnTag\", \"ImageId2014\",\"ObservationId2014\",\"YearInCLEF\",\"ObservationId\"], axis='columns', inplace=True)\n",
    "df = df.drop_duplicates()\n",
    "# on laisse Species car c'est égale au nombre de classe\n",
    "df.to_json('CNN/classeIDInfo.json',orient='records', lines=True)"
   ]
  },
  {
   "cell_type": "code",
   "execution_count": 4,
   "metadata": {},
   "outputs": [
    {
     "name": "stdout",
     "output_type": "stream",
     "text": [
      "cpu\n"
     ]
    }
   ],
   "source": [
    "dossier_data = \"CNN\"\n",
    "\n",
    "train_transforms = transforms.Compose([transforms.RandomRotation(30),\n",
    "                                       transforms.RandomResizedCrop(224),\n",
    "                                       transforms.RandomHorizontalFlip(),\n",
    "                                       transforms.ToTensor(),\n",
    "                                       transforms.Normalize([0.485, 0.456, 0.406],\n",
    "                                                            [0.229, 0.224, 0.225])])\n",
    "\n",
    "test_transforms = transforms.Compose([transforms.Resize(255),\n",
    "                                      transforms.CenterCrop(224),\n",
    "                                      transforms.ToTensor(),\n",
    "                                      transforms.Normalize([0.485, 0.456, 0.406],\n",
    "                                                           [0.229, 0.224, 0.225])])\n",
    "\n",
    "# Pass transforms in here, then run the next cell to see how the transforms look\n",
    "#TODO\n",
    "dataTrain = datasets.ImageFolder(dossier_data + 'train', transform=train_transforms)\n",
    "dataValid = datasets.ImageFolder(dossier_data + 'valid', transform=test_transforms)\n",
    "dataTest = datasets.ImageFolder('../input/test set/', transform=test_transforms)\n",
    "\n",
    "loaderTest = torch.utils.data.DataLoader(dataTest)\n",
    "loaderTrain = torch.utils.data.DataLoader(dossier_data, batch_size=64, shuffle=True)\n",
    "laoderValid = torch.utils.data.DataLoader(dossier_data, batch_size=64)\n",
    "\n",
    "\n",
    "#test si l'ordinateur à un GPU CUDA NVIDIA sinon prend le CPU\n",
    "device = torch.device(\"cuda\" if torch.cuda.is_available() else \"cpu\")\n",
    "print(device)"
   ]
  }
 ],
 "metadata": {
  "kernelspec": {
   "display_name": "Python 3",
   "language": "python",
   "name": "python3"
  },
  "language_info": {
   "codemirror_mode": {
    "name": "ipython",
    "version": 3
   },
   "file_extension": ".py",
   "mimetype": "text/x-python",
   "name": "python",
   "nbconvert_exporter": "python",
   "pygments_lexer": "ipython3",
   "version": "3.6.8"
  }
 },
 "nbformat": 4,
 "nbformat_minor": 2
}
