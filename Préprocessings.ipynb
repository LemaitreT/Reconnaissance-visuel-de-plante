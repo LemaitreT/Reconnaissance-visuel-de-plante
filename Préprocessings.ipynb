{
 "cells": [
  {
   "cell_type": "code",
   "execution_count": 5,
   "metadata": {},
   "outputs": [],
   "source": [
    "import matplotlib.pyplot as plt\n",
    "import json\n",
    "import os\n",
    "import pandas as pd\n",
    "import numpy as np\n",
    "from pandas.io.json import json_normalize\n"
   ]
  },
  {
   "cell_type": "markdown",
   "metadata": {},
   "source": [
    "# Redimentionnement des images"
   ]
  },
  {
   "cell_type": "code",
   "execution_count": 17,
   "metadata": {},
   "outputs": [],
   "source": [
    "import matplotlib.pyplot as plt\n",
    "import matplotlib.image as mpimg\n",
    "import numpy as np\n",
    "\n",
    "from skimage.feature import hog\n",
    "from skimage import data, exposure\n",
    "\n",
    "import matplotlib.pyplot as plt\n",
    "\n",
    "from skimage import data, color\n",
    "from skimage.transform import rescale, resize, downscale_local_mean\n",
    "\n",
    "\n",
    "def transformeImageEnCarre(cheminDEB,cheminfin):\n",
    "    chemin = os.getcwd()+cheminDEB;\n",
    "    files = os.listdir(chemin);\n",
    "\n",
    "    NVchemin = os.getcwd()+cheminfin;\n",
    "    for file in files:\n",
    "        if file.endswith('.jpg'):\n",
    "            image = mpimg.imread(chemin+file);\n",
    "            image = resize(image, (100,100),anti_aliasing=True);\n",
    "            mpimg.imsave(NVchemin+file, image);\n",
    "    return ;\n",
    "\n",
    "transformeImageEnCarre(\"/small_dataset_train/train/\",\"/trainResize/\")"
   ]
  }
 ],
 "metadata": {
  "kernelspec": {
   "display_name": "Python 3",
   "language": "python",
   "name": "python3"
  },
  "language_info": {
   "codemirror_mode": {
    "name": "ipython",
    "version": 3
   },
   "file_extension": ".py",
   "mimetype": "text/x-python",
   "name": "python",
   "nbconvert_exporter": "python",
   "pygments_lexer": "ipython3",
   "version": "3.6.8"
  }
 },
 "nbformat": 4,
 "nbformat_minor": 2
}
