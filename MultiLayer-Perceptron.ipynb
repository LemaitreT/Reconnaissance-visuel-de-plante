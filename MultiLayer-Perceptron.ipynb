{
 "cells": [
  {
   "cell_type": "code",
   "execution_count": 22,
   "metadata": {},
   "outputs": [],
   "source": [
    "import numpy as np \n",
    "import shutil # pour les dossiers\n",
    "import pandas as pd\n",
    "import json\n",
    "import torch\n",
    "import torch.nn as nn\n",
    "import torch.optim as optim\n",
    "from torch.optim import lr_scheduler\n",
    "import torchvision\n",
    "from torchvision import datasets, models, transforms\n",
    "from sklearn.model_selection import train_test_split\n",
    "import matplotlib.pyplot as plt\n",
    "import time\n",
    "import os\n",
    "import copy"
   ]
  },
  {
   "cell_type": "code",
   "execution_count": 23,
   "metadata": {},
   "outputs": [],
   "source": [
    "def metrique(path):\n",
    "    files = os.listdir(path);\n",
    "    contenu = [];\n",
    "    for file in files:\n",
    "        if file.endswith('.json'):\n",
    "            openFile = open(path+file, \"r\");\n",
    "            contenu.append(json.loads(openFile.read())[\"Image\"]);\n",
    "            openFile.close();\n",
    "    return contenu;"
   ]
  },
  {
   "cell_type": "code",
   "execution_count": 24,
   "metadata": {},
   "outputs": [
    {
     "name": "stdout",
     "output_type": "stream",
     "text": [
      "50\n"
     ]
    }
   ],
   "source": [
    "chemin = \"./train/\";\n",
    "contenu = [];\n",
    "if not os.path.isdir(chemin):\n",
    "    print('Rajouter le dossier train dans le dossier courant :) ! ');\n",
    "else :\n",
    "    contenu = metrique(chemin);\n",
    "df = pd.DataFrame(contenu)\n",
    "# on laisse Species car c'est égale au nombre de classe\n",
    "df.drop([\"Genus\",\"ClassId\",\"Family\",\"Vote\",\"Location\",\"Latitude\",\"Longitude\",\"Date\",\"Author\",\"Content\",\"MediaId\", \"LearnTag\", \"ImageId2014\",\"ObservationId2014\",\"YearInCLEF\",\"ObservationId\"], axis='columns', inplace=True)\n",
    "df = df.drop_duplicates()\n",
    "classe  = df.to_numpy();\n",
    "print(len(classe))\n"
   ]
  },
  {
   "cell_type": "code",
   "execution_count": 25,
   "metadata": {},
   "outputs": [],
   "source": [
    "X = [];\n",
    "Y = [];\n",
    "files = os.listdir(\"./train\")\n",
    "for file in files:\n",
    "    if file.endswith('.jpg'):\n",
    "        X.append(file);\n",
    "        nameFile = file.split('.')[0];\n",
    "        for file_class in files:\n",
    "            nameFileAutre = file_class.split('.')[0];\n",
    "            if nameFile==nameFileAutre and file_class.endswith('.json'):\n",
    "                fichierSrc = open(\"./train/\"+file_class, \"r\");\n",
    "                contenu = fichierSrc.read();\n",
    "                monJson = json.loads(contenu)\n",
    "                Y.append(monJson[\"Image\"][\"Species\"])\n",
    "                break;\n"
   ]
  },
  {
   "cell_type": "code",
   "execution_count": 26,
   "metadata": {},
   "outputs": [
    {
     "name": "stdout",
     "output_type": "stream",
     "text": [
      "OK\n"
     ]
    }
   ],
   "source": [
    "# on a bien une classe par image !\n",
    "if(len(X) == len(Y)):\n",
    "    print(\"OK\")\n",
    "else:\n",
    "    print(\"KO\")"
   ]
  },
  {
   "cell_type": "code",
   "execution_count": 27,
   "metadata": {},
   "outputs": [
    {
     "data": {
      "text/plain": [
       "'Salix caprea L.'"
      ]
     },
     "execution_count": 27,
     "metadata": {},
     "output_type": "execute_result"
    }
   ],
   "source": [
    "X_train, X_test, y_train, y_test = train_test_split(X, Y, test_size=0.33, random_state=42, stratify=Y)\n",
    "y_train[0]"
   ]
  },
  {
   "cell_type": "code",
   "execution_count": 28,
   "metadata": {},
   "outputs": [
    {
     "name": "stdout",
     "output_type": "stream",
     "text": [
      "./MLP/train/Salix caprea L.30108.jpg\n",
      "30108.jpg\n"
     ]
    }
   ],
   "source": [
    "# Création des répertoires ! \n",
    "directory = \"MLP\"\n",
    "for classe in y_train : \n",
    "    if(not os.path.isdir('./MLP/train/'+classe)):\n",
    "        os.mkdir('./MLP/train/'+classe)\n",
    "        \n",
    "for classe in y_test : \n",
    "    if(not os.path.isdir('./MLP/val/'+classe)):\n",
    "        os.mkdir('./MLP/val/'+classe)\n",
    "        \n",
    "# on met les images dans les répertoires precédents\n",
    "\n",
    "# on supprime le contenu\n",
    "\n",
    "directorys=os.listdir('./MLP/train/')\n",
    "for i in range(0,len(directory)):\n",
    "    files=os.listdir('./MLP/train/'+directorys[i])\n",
    "    for j in range(0,len(files)):\n",
    "        os.remove('./MLP/train/'+directorys[i]+'/'+files[j])\n",
    "\n",
    "directorys=os.listdir('./MLP/val/')\n",
    "for i in range(0,len(directory)):\n",
    "    files=os.listdir('./MLP/val/'+directorys[i])\n",
    "    for j in range(0,len(files)):\n",
    "        os.remove('./MLP/val/'+directorys[i]+'/'+files[j])\n",
    "\n",
    "# on met le contenu\n",
    "shutil.copyfile('./train/'+X_train[0],'./MLP/train/'+y_train[0]+'/'+X_train[0])\n",
    "\n",
    "print('./MLP/train/'+y_train[0]+X_train[0])\n",
    "print(X_train[0])\n",
    "for i in range(len(X_train)):\n",
    "    shutil.copyfile('./train/'+X_train[i],'./MLP/train/'+y_train[i]+'/'+X_train[i])\n",
    "    \n",
    "for i in range(len(X_test)):\n",
    "    shutil.copyfile('./train/'+X_test[i],'./MLP/val/'+y_test[i]+'/'+X_test[i])\n",
    "    "
   ]
  },
  {
   "cell_type": "code",
   "execution_count": 29,
   "metadata": {},
   "outputs": [],
   "source": [
    "data_transforms = {\n",
    "    'train': transforms.Compose([\n",
    "        transforms.RandomResizedCrop(224),\n",
    "        transforms.RandomHorizontalFlip(),\n",
    "        transforms.ToTensor(),\n",
    "        transforms.Normalize([0.485, 0.456, 0.406], [0.229, 0.224, 0.225])\n",
    "    ]),\n",
    "    'val': transforms.Compose([\n",
    "        transforms.Resize(256),\n",
    "        transforms.CenterCrop(224),\n",
    "        transforms.ToTensor(),\n",
    "        transforms.Normalize([0.485, 0.456, 0.406], [0.229, 0.224, 0.225])\n",
    "    ]),\n",
    "}\n",
    "data_dir = 'MLP'\n",
    "image_datasets = {x: datasets.ImageFolder(os.path.join(data_dir, x),\n",
    "                                          data_transforms[x])\n",
    "                  for x in ['train', 'val']}\n",
    "\n",
    "dataloaders = {x: torch.utils.data.DataLoader(image_datasets[x], batch_size=4,\n",
    "                                             shuffle=True, num_workers=4)\n",
    "              for x in ['train', 'val']}\n",
    "\n",
    "dataset_sizes = {x: len(image_datasets[x]) for x in ['train', 'val']}\n",
    "\n",
    "class_names = image_datasets['train'].classes\n",
    "#print(pd.DataFrame(class_names))\n",
    "\n"
   ]
  },
  {
   "cell_type": "code",
   "execution_count": 35,
   "metadata": {},
   "outputs": [],
   "source": [
    "class MLP(nn.Module):\n",
    "    def __init__(self):\n",
    "        super(MLP,self).__init__()\n",
    "        self.layers = nn.Sequential(\n",
    "            nn.Linear(4,3*256),\n",
    "            nn.ReLU(),\n",
    "            nn.Linear(3*256,10)\n",
    "        )\n",
    "        \n",
    "    def forward(self,x):\n",
    "        #convert tensor (128,1,28,28) --> (128,1*28*28)\n",
    "        x=x.view(x.size(0), -1)\n",
    "        x=self.layers(x)\n",
    "        return x"
   ]
  },
  {
   "cell_type": "code",
   "execution_count": 38,
   "metadata": {},
   "outputs": [
    {
     "name": "stdout",
     "output_type": "stream",
     "text": [
      "MLP(\n",
      "  (layers): Sequential(\n",
      "    (0): Linear(in_features=4, out_features=100, bias=True)\n",
      "    (1): ReLU()\n",
      "    (2): Linear(in_features=100, out_features=10, bias=True)\n",
      "  )\n",
      ")\n",
      "tensor([[[[-1.7240, -1.7412, -1.7412,  ..., -1.4158, -1.4329, -1.4500],\n",
      "          [-1.6727, -1.6898, -1.6898,  ..., -1.3644, -1.3987, -1.4329],\n",
      "          [-1.6213, -1.6213, -1.6384,  ..., -1.3302, -1.3644, -1.3987],\n",
      "          ...,\n",
      "          [ 0.9303,  1.0331,  1.0844,  ..., -1.7240, -1.7240, -1.7069],\n",
      "          [ 0.9303,  1.0331,  1.1015,  ..., -1.7069, -1.6898, -1.6898],\n",
      "          [ 0.9132,  0.9988,  1.0673,  ..., -1.7069, -1.6898, -1.6898]],\n",
      "\n",
      "         [[-1.4405, -1.4580, -1.4580,  ..., -1.1954, -1.2129, -1.2304],\n",
      "          [-1.4055, -1.4230, -1.4230,  ..., -1.1604, -1.1779, -1.2129],\n",
      "          [-1.3704, -1.3529, -1.3880,  ..., -1.1253, -1.1253, -1.1604],\n",
      "          ...,\n",
      "          [-0.2850, -0.0399,  0.1352,  ..., -1.6506, -1.6681, -1.6856],\n",
      "          [-0.3200, -0.0749,  0.1001,  ..., -1.6331, -1.6331, -1.6681],\n",
      "          [-0.3550, -0.1450,  0.0476,  ..., -1.6331, -1.6331, -1.6681]],\n",
      "\n",
      "         [[-1.5081, -1.5256, -1.5430,  ..., -1.2467, -1.2641, -1.2816],\n",
      "          [-1.5081, -1.5081, -1.5256,  ..., -1.2293, -1.2467, -1.2816],\n",
      "          [-1.5081, -1.5081, -1.5256,  ..., -1.2467, -1.2641, -1.2990],\n",
      "          ...,\n",
      "          [ 1.7685,  1.9254,  2.0300,  ..., -1.4907, -1.4907, -1.5081],\n",
      "          [ 1.7511,  1.9080,  2.0300,  ..., -1.4733, -1.4733, -1.4907],\n",
      "          [ 1.7163,  1.8731,  1.9777,  ..., -1.4907, -1.4907, -1.4907]]],\n",
      "\n",
      "\n",
      "        [[[-0.1143,  0.0569,  0.1426,  ..., -0.2856, -0.2513, -0.2513],\n",
      "          [ 0.1254,  0.2453,  0.2967,  ..., -0.1999, -0.2171, -0.2856],\n",
      "          [ 0.2967,  0.3994,  0.4337,  ..., -0.1828, -0.2171, -0.3027],\n",
      "          ...,\n",
      "          [-1.6213, -1.5357, -1.5185,  ..., -1.3473, -1.3473, -1.5014],\n",
      "          [-1.5014, -1.4843, -1.4672,  ..., -1.3987, -1.3130, -1.3815],\n",
      "          [-1.4500, -1.4329, -1.4500,  ..., -1.2959, -1.2103, -1.2274]],\n",
      "\n",
      "         [[ 0.7654,  0.8704,  0.8529,  ...,  0.4853,  0.5028,  0.5028],\n",
      "          [ 0.9755,  1.0280,  0.9930,  ...,  0.5903,  0.5553,  0.4678],\n",
      "          [ 1.1681,  1.1506,  1.1331,  ...,  0.6254,  0.5553,  0.4503],\n",
      "          ...,\n",
      "          [-1.0378, -0.9153, -0.8277,  ..., -1.1429, -1.1604, -1.3179],\n",
      "          [-0.8627, -0.7752, -0.7577,  ..., -1.1779, -1.1078, -1.1779],\n",
      "          [-0.7402, -0.7227, -0.7752,  ..., -1.0203, -1.0203, -1.0203]],\n",
      "\n",
      "         [[-0.6193, -0.3753, -0.3404,  ..., -1.1770, -1.1247, -1.0724],\n",
      "          [-0.4624, -0.2358, -0.1835,  ..., -1.0550, -1.0201, -1.0724],\n",
      "          [-0.4798, -0.2010, -0.0441,  ..., -1.0201, -1.0027, -1.1073],\n",
      "          ...,\n",
      "          [-1.7696, -1.7347, -1.7696,  ..., -1.7522, -1.7347, -1.7870],\n",
      "          [-1.7347, -1.7347, -1.7347,  ..., -1.7696, -1.7696, -1.7870],\n",
      "          [-1.6999, -1.6999, -1.6999,  ..., -1.7696, -1.7696, -1.7870]]],\n",
      "\n",
      "\n",
      "        [[[ 2.2489,  2.2489,  2.1633,  ..., -0.6109, -0.5767, -0.5424],\n",
      "          [ 2.2489,  2.2489,  2.2147,  ..., -0.5938, -0.5424, -0.5253],\n",
      "          [ 2.2147,  2.2489,  2.2489,  ..., -0.6109, -0.5596, -0.5082],\n",
      "          ...,\n",
      "          [-1.2788, -1.3130, -1.3302,  ..., -0.0116,  0.0056,  0.0056],\n",
      "          [-1.1589, -1.2103, -1.2788,  ..., -0.0287, -0.0116,  0.0056],\n",
      "          [-1.1247, -1.1932, -1.3130,  ..., -0.0458, -0.0116,  0.0227]],\n",
      "\n",
      "         [[ 2.4286,  2.3936,  2.3410,  ..., -0.8102, -0.7752, -0.7227],\n",
      "          [ 2.4286,  2.4111,  2.3936,  ..., -0.7752, -0.7402, -0.7052],\n",
      "          [ 2.4111,  2.4286,  2.4111,  ..., -0.7577, -0.7402, -0.6877],\n",
      "          ...,\n",
      "          [-0.7752, -0.8277, -0.8452,  ...,  0.3803,  0.4153,  0.4678],\n",
      "          [-0.6527, -0.7227, -0.7927,  ...,  0.3803,  0.4153,  0.4503],\n",
      "          [-0.6176, -0.7052, -0.8277,  ...,  0.3627,  0.3978,  0.4678]],\n",
      "\n",
      "         [[ 1.7337,  2.0823,  2.1171,  ..., -1.2990, -1.2641, -1.2467],\n",
      "          [ 1.5071,  2.0125,  2.1868,  ..., -1.2467, -1.2293, -1.2119],\n",
      "          [ 0.7402,  1.4025,  1.9080,  ..., -1.2467, -1.2293, -1.2119],\n",
      "          ...,\n",
      "          [-1.4559, -1.4559, -1.4384,  ..., -0.4798, -0.4624, -0.4275],\n",
      "          [-1.3513, -1.3687, -1.4036,  ..., -0.4798, -0.4450, -0.4101],\n",
      "          [-1.3513, -1.3687, -1.4559,  ..., -0.4973, -0.4624, -0.3927]]],\n",
      "\n",
      "\n",
      "        [[[-0.1314, -0.1143, -0.1143,  ...,  0.3823,  0.4166,  0.4337],\n",
      "          [-0.0801, -0.1143, -0.1314,  ...,  0.3823,  0.4166,  0.4337],\n",
      "          [-0.0629, -0.0972, -0.0972,  ...,  0.3823,  0.4166,  0.4337],\n",
      "          ...,\n",
      "          [ 0.4508,  0.5193,  0.6392,  ...,  0.2624,  0.2453,  0.2111],\n",
      "          [ 0.6734,  0.6563,  0.6392,  ...,  0.2282,  0.2111,  0.1768],\n",
      "          [ 0.6221,  0.6563,  0.6734,  ...,  0.1939,  0.1768,  0.1597]],\n",
      "\n",
      "         [[ 0.1001,  0.1176,  0.1176,  ...,  0.6254,  0.6254,  0.6429],\n",
      "          [ 0.1352,  0.1001,  0.0826,  ...,  0.6254,  0.6429,  0.6429],\n",
      "          [ 0.1527,  0.1176,  0.1001,  ...,  0.6254,  0.6254,  0.6254],\n",
      "          ...,\n",
      "          [ 1.3081,  1.3606,  1.4657,  ...,  0.3978,  0.3803,  0.3627],\n",
      "          [ 1.4832,  1.4482,  1.4482,  ...,  0.3803,  0.3627,  0.3452],\n",
      "          [ 1.4307,  1.4657,  1.5182,  ...,  0.3277,  0.2927,  0.2752]],\n",
      "\n",
      "         [[ 0.2348,  0.2522,  0.2522,  ...,  0.8797,  0.8971,  0.8797],\n",
      "          [ 0.2522,  0.2173,  0.2522,  ...,  0.8971,  0.9319,  0.9145],\n",
      "          [ 0.2696,  0.2348,  0.2871,  ...,  0.9494,  0.9842,  0.9668],\n",
      "          ...,\n",
      "          [ 0.8448,  0.9319,  1.0714,  ...,  0.5136,  0.5311,  0.5136],\n",
      "          [ 1.3154,  1.2980,  1.2631,  ...,  0.4962,  0.4962,  0.4614],\n",
      "          [ 1.3328,  1.3677,  1.3851,  ...,  0.4439,  0.4265,  0.4265]]]])\n"
     ]
    },
    {
     "ename": "RuntimeError",
     "evalue": "size mismatch, m1: [4 x 150528], m2: [4 x 100] at /pytorch/aten/src/TH/generic/THTensorMath.cpp:197",
     "output_type": "error",
     "traceback": [
      "\u001b[0;31m---------------------------------------------------------------------------\u001b[0m",
      "\u001b[0;31mRuntimeError\u001b[0m                              Traceback (most recent call last)",
      "\u001b[0;32m<ipython-input-38-02a413fe62db>\u001b[0m in \u001b[0;36m<module>\u001b[0;34m\u001b[0m\n\u001b[1;32m     20\u001b[0m                 \u001b[0moptimizer\u001b[0m\u001b[0;34m.\u001b[0m\u001b[0mzero_grad\u001b[0m\u001b[0;34m(\u001b[0m\u001b[0;34m)\u001b[0m\u001b[0;34m\u001b[0m\u001b[0m\n\u001b[1;32m     21\u001b[0m                 \u001b[0mprint\u001b[0m\u001b[0;34m(\u001b[0m\u001b[0mimages\u001b[0m\u001b[0;34m)\u001b[0m\u001b[0;34m\u001b[0m\u001b[0m\n\u001b[0;32m---> 22\u001b[0;31m                 \u001b[0moutputs\u001b[0m \u001b[0;34m=\u001b[0m \u001b[0mmodel\u001b[0m\u001b[0;34m(\u001b[0m\u001b[0mimages\u001b[0m\u001b[0;34m)\u001b[0m\u001b[0;34m\u001b[0m\u001b[0m\n\u001b[0m\u001b[1;32m     23\u001b[0m                 \u001b[0mloss\u001b[0m \u001b[0;34m=\u001b[0m \u001b[0mloss_fn\u001b[0m\u001b[0;34m(\u001b[0m\u001b[0moutputs\u001b[0m\u001b[0;34m,\u001b[0m\u001b[0mlabels\u001b[0m\u001b[0;34m)\u001b[0m\u001b[0;34m\u001b[0m\u001b[0m\n\u001b[1;32m     24\u001b[0m                 \u001b[0mloss\u001b[0m\u001b[0;34m.\u001b[0m\u001b[0mbackward\u001b[0m\u001b[0;34m(\u001b[0m\u001b[0;34m)\u001b[0m\u001b[0;34m\u001b[0m\u001b[0m\n",
      "\u001b[0;32m~/Master/donnees_avancees/env/lib/python3.5/site-packages/torch/nn/modules/module.py\u001b[0m in \u001b[0;36m__call__\u001b[0;34m(self, *input, **kwargs)\u001b[0m\n\u001b[1;32m    539\u001b[0m             \u001b[0mresult\u001b[0m \u001b[0;34m=\u001b[0m \u001b[0mself\u001b[0m\u001b[0;34m.\u001b[0m\u001b[0m_slow_forward\u001b[0m\u001b[0;34m(\u001b[0m\u001b[0;34m*\u001b[0m\u001b[0minput\u001b[0m\u001b[0;34m,\u001b[0m \u001b[0;34m**\u001b[0m\u001b[0mkwargs\u001b[0m\u001b[0;34m)\u001b[0m\u001b[0;34m\u001b[0m\u001b[0m\n\u001b[1;32m    540\u001b[0m         \u001b[0;32melse\u001b[0m\u001b[0;34m:\u001b[0m\u001b[0;34m\u001b[0m\u001b[0m\n\u001b[0;32m--> 541\u001b[0;31m             \u001b[0mresult\u001b[0m \u001b[0;34m=\u001b[0m \u001b[0mself\u001b[0m\u001b[0;34m.\u001b[0m\u001b[0mforward\u001b[0m\u001b[0;34m(\u001b[0m\u001b[0;34m*\u001b[0m\u001b[0minput\u001b[0m\u001b[0;34m,\u001b[0m \u001b[0;34m**\u001b[0m\u001b[0mkwargs\u001b[0m\u001b[0;34m)\u001b[0m\u001b[0;34m\u001b[0m\u001b[0m\n\u001b[0m\u001b[1;32m    542\u001b[0m         \u001b[0;32mfor\u001b[0m \u001b[0mhook\u001b[0m \u001b[0;32min\u001b[0m \u001b[0mself\u001b[0m\u001b[0;34m.\u001b[0m\u001b[0m_forward_hooks\u001b[0m\u001b[0;34m.\u001b[0m\u001b[0mvalues\u001b[0m\u001b[0;34m(\u001b[0m\u001b[0;34m)\u001b[0m\u001b[0;34m:\u001b[0m\u001b[0;34m\u001b[0m\u001b[0m\n\u001b[1;32m    543\u001b[0m             \u001b[0mhook_result\u001b[0m \u001b[0;34m=\u001b[0m \u001b[0mhook\u001b[0m\u001b[0;34m(\u001b[0m\u001b[0mself\u001b[0m\u001b[0;34m,\u001b[0m \u001b[0minput\u001b[0m\u001b[0;34m,\u001b[0m \u001b[0mresult\u001b[0m\u001b[0;34m)\u001b[0m\u001b[0;34m\u001b[0m\u001b[0m\n",
      "\u001b[0;32m<ipython-input-35-7ce18e92aa31>\u001b[0m in \u001b[0;36mforward\u001b[0;34m(self, x)\u001b[0m\n\u001b[1;32m     11\u001b[0m         \u001b[0;31m#convert tensor (128,1,28,28) --> (128,1*28*28)\u001b[0m\u001b[0;34m\u001b[0m\u001b[0;34m\u001b[0m\u001b[0m\n\u001b[1;32m     12\u001b[0m         \u001b[0mx\u001b[0m\u001b[0;34m=\u001b[0m\u001b[0mx\u001b[0m\u001b[0;34m.\u001b[0m\u001b[0mview\u001b[0m\u001b[0;34m(\u001b[0m\u001b[0mx\u001b[0m\u001b[0;34m.\u001b[0m\u001b[0msize\u001b[0m\u001b[0;34m(\u001b[0m\u001b[0;36m0\u001b[0m\u001b[0;34m)\u001b[0m\u001b[0;34m,\u001b[0m \u001b[0;34m-\u001b[0m\u001b[0;36m1\u001b[0m\u001b[0;34m)\u001b[0m\u001b[0;34m\u001b[0m\u001b[0m\n\u001b[0;32m---> 13\u001b[0;31m         \u001b[0mx\u001b[0m\u001b[0;34m=\u001b[0m\u001b[0mself\u001b[0m\u001b[0;34m.\u001b[0m\u001b[0mlayers\u001b[0m\u001b[0;34m(\u001b[0m\u001b[0mx\u001b[0m\u001b[0;34m)\u001b[0m\u001b[0;34m\u001b[0m\u001b[0m\n\u001b[0m\u001b[1;32m     14\u001b[0m         \u001b[0;32mreturn\u001b[0m \u001b[0mx\u001b[0m\u001b[0;34m\u001b[0m\u001b[0m\n",
      "\u001b[0;32m~/Master/donnees_avancees/env/lib/python3.5/site-packages/torch/nn/modules/module.py\u001b[0m in \u001b[0;36m__call__\u001b[0;34m(self, *input, **kwargs)\u001b[0m\n\u001b[1;32m    539\u001b[0m             \u001b[0mresult\u001b[0m \u001b[0;34m=\u001b[0m \u001b[0mself\u001b[0m\u001b[0;34m.\u001b[0m\u001b[0m_slow_forward\u001b[0m\u001b[0;34m(\u001b[0m\u001b[0;34m*\u001b[0m\u001b[0minput\u001b[0m\u001b[0;34m,\u001b[0m \u001b[0;34m**\u001b[0m\u001b[0mkwargs\u001b[0m\u001b[0;34m)\u001b[0m\u001b[0;34m\u001b[0m\u001b[0m\n\u001b[1;32m    540\u001b[0m         \u001b[0;32melse\u001b[0m\u001b[0;34m:\u001b[0m\u001b[0;34m\u001b[0m\u001b[0m\n\u001b[0;32m--> 541\u001b[0;31m             \u001b[0mresult\u001b[0m \u001b[0;34m=\u001b[0m \u001b[0mself\u001b[0m\u001b[0;34m.\u001b[0m\u001b[0mforward\u001b[0m\u001b[0;34m(\u001b[0m\u001b[0;34m*\u001b[0m\u001b[0minput\u001b[0m\u001b[0;34m,\u001b[0m \u001b[0;34m**\u001b[0m\u001b[0mkwargs\u001b[0m\u001b[0;34m)\u001b[0m\u001b[0;34m\u001b[0m\u001b[0m\n\u001b[0m\u001b[1;32m    542\u001b[0m         \u001b[0;32mfor\u001b[0m \u001b[0mhook\u001b[0m \u001b[0;32min\u001b[0m \u001b[0mself\u001b[0m\u001b[0;34m.\u001b[0m\u001b[0m_forward_hooks\u001b[0m\u001b[0;34m.\u001b[0m\u001b[0mvalues\u001b[0m\u001b[0;34m(\u001b[0m\u001b[0;34m)\u001b[0m\u001b[0;34m:\u001b[0m\u001b[0;34m\u001b[0m\u001b[0m\n\u001b[1;32m    543\u001b[0m             \u001b[0mhook_result\u001b[0m \u001b[0;34m=\u001b[0m \u001b[0mhook\u001b[0m\u001b[0;34m(\u001b[0m\u001b[0mself\u001b[0m\u001b[0;34m,\u001b[0m \u001b[0minput\u001b[0m\u001b[0;34m,\u001b[0m \u001b[0mresult\u001b[0m\u001b[0;34m)\u001b[0m\u001b[0;34m\u001b[0m\u001b[0m\n",
      "\u001b[0;32m~/Master/donnees_avancees/env/lib/python3.5/site-packages/torch/nn/modules/container.py\u001b[0m in \u001b[0;36mforward\u001b[0;34m(self, input)\u001b[0m\n\u001b[1;32m     90\u001b[0m     \u001b[0;32mdef\u001b[0m \u001b[0mforward\u001b[0m\u001b[0;34m(\u001b[0m\u001b[0mself\u001b[0m\u001b[0;34m,\u001b[0m \u001b[0minput\u001b[0m\u001b[0;34m)\u001b[0m\u001b[0;34m:\u001b[0m\u001b[0;34m\u001b[0m\u001b[0m\n\u001b[1;32m     91\u001b[0m         \u001b[0;32mfor\u001b[0m \u001b[0mmodule\u001b[0m \u001b[0;32min\u001b[0m \u001b[0mself\u001b[0m\u001b[0;34m.\u001b[0m\u001b[0m_modules\u001b[0m\u001b[0;34m.\u001b[0m\u001b[0mvalues\u001b[0m\u001b[0;34m(\u001b[0m\u001b[0;34m)\u001b[0m\u001b[0;34m:\u001b[0m\u001b[0;34m\u001b[0m\u001b[0m\n\u001b[0;32m---> 92\u001b[0;31m             \u001b[0minput\u001b[0m \u001b[0;34m=\u001b[0m \u001b[0mmodule\u001b[0m\u001b[0;34m(\u001b[0m\u001b[0minput\u001b[0m\u001b[0;34m)\u001b[0m\u001b[0;34m\u001b[0m\u001b[0m\n\u001b[0m\u001b[1;32m     93\u001b[0m         \u001b[0;32mreturn\u001b[0m \u001b[0minput\u001b[0m\u001b[0;34m\u001b[0m\u001b[0m\n\u001b[1;32m     94\u001b[0m \u001b[0;34m\u001b[0m\u001b[0m\n",
      "\u001b[0;32m~/Master/donnees_avancees/env/lib/python3.5/site-packages/torch/nn/modules/module.py\u001b[0m in \u001b[0;36m__call__\u001b[0;34m(self, *input, **kwargs)\u001b[0m\n\u001b[1;32m    539\u001b[0m             \u001b[0mresult\u001b[0m \u001b[0;34m=\u001b[0m \u001b[0mself\u001b[0m\u001b[0;34m.\u001b[0m\u001b[0m_slow_forward\u001b[0m\u001b[0;34m(\u001b[0m\u001b[0;34m*\u001b[0m\u001b[0minput\u001b[0m\u001b[0;34m,\u001b[0m \u001b[0;34m**\u001b[0m\u001b[0mkwargs\u001b[0m\u001b[0;34m)\u001b[0m\u001b[0;34m\u001b[0m\u001b[0m\n\u001b[1;32m    540\u001b[0m         \u001b[0;32melse\u001b[0m\u001b[0;34m:\u001b[0m\u001b[0;34m\u001b[0m\u001b[0m\n\u001b[0;32m--> 541\u001b[0;31m             \u001b[0mresult\u001b[0m \u001b[0;34m=\u001b[0m \u001b[0mself\u001b[0m\u001b[0;34m.\u001b[0m\u001b[0mforward\u001b[0m\u001b[0;34m(\u001b[0m\u001b[0;34m*\u001b[0m\u001b[0minput\u001b[0m\u001b[0;34m,\u001b[0m \u001b[0;34m**\u001b[0m\u001b[0mkwargs\u001b[0m\u001b[0;34m)\u001b[0m\u001b[0;34m\u001b[0m\u001b[0m\n\u001b[0m\u001b[1;32m    542\u001b[0m         \u001b[0;32mfor\u001b[0m \u001b[0mhook\u001b[0m \u001b[0;32min\u001b[0m \u001b[0mself\u001b[0m\u001b[0;34m.\u001b[0m\u001b[0m_forward_hooks\u001b[0m\u001b[0;34m.\u001b[0m\u001b[0mvalues\u001b[0m\u001b[0;34m(\u001b[0m\u001b[0;34m)\u001b[0m\u001b[0;34m:\u001b[0m\u001b[0;34m\u001b[0m\u001b[0m\n\u001b[1;32m    543\u001b[0m             \u001b[0mhook_result\u001b[0m \u001b[0;34m=\u001b[0m \u001b[0mhook\u001b[0m\u001b[0;34m(\u001b[0m\u001b[0mself\u001b[0m\u001b[0;34m,\u001b[0m \u001b[0minput\u001b[0m\u001b[0;34m,\u001b[0m \u001b[0mresult\u001b[0m\u001b[0;34m)\u001b[0m\u001b[0;34m\u001b[0m\u001b[0m\n",
      "\u001b[0;32m~/Master/donnees_avancees/env/lib/python3.5/site-packages/torch/nn/modules/linear.py\u001b[0m in \u001b[0;36mforward\u001b[0;34m(self, input)\u001b[0m\n\u001b[1;32m     85\u001b[0m \u001b[0;34m\u001b[0m\u001b[0m\n\u001b[1;32m     86\u001b[0m     \u001b[0;32mdef\u001b[0m \u001b[0mforward\u001b[0m\u001b[0;34m(\u001b[0m\u001b[0mself\u001b[0m\u001b[0;34m,\u001b[0m \u001b[0minput\u001b[0m\u001b[0;34m)\u001b[0m\u001b[0;34m:\u001b[0m\u001b[0;34m\u001b[0m\u001b[0m\n\u001b[0;32m---> 87\u001b[0;31m         \u001b[0;32mreturn\u001b[0m \u001b[0mF\u001b[0m\u001b[0;34m.\u001b[0m\u001b[0mlinear\u001b[0m\u001b[0;34m(\u001b[0m\u001b[0minput\u001b[0m\u001b[0;34m,\u001b[0m \u001b[0mself\u001b[0m\u001b[0;34m.\u001b[0m\u001b[0mweight\u001b[0m\u001b[0;34m,\u001b[0m \u001b[0mself\u001b[0m\u001b[0;34m.\u001b[0m\u001b[0mbias\u001b[0m\u001b[0;34m)\u001b[0m\u001b[0;34m\u001b[0m\u001b[0m\n\u001b[0m\u001b[1;32m     88\u001b[0m \u001b[0;34m\u001b[0m\u001b[0m\n\u001b[1;32m     89\u001b[0m     \u001b[0;32mdef\u001b[0m \u001b[0mextra_repr\u001b[0m\u001b[0;34m(\u001b[0m\u001b[0mself\u001b[0m\u001b[0;34m)\u001b[0m\u001b[0;34m:\u001b[0m\u001b[0;34m\u001b[0m\u001b[0m\n",
      "\u001b[0;32m~/Master/donnees_avancees/env/lib/python3.5/site-packages/torch/nn/functional.py\u001b[0m in \u001b[0;36mlinear\u001b[0;34m(input, weight, bias)\u001b[0m\n\u001b[1;32m   1368\u001b[0m     \u001b[0;32mif\u001b[0m \u001b[0minput\u001b[0m\u001b[0;34m.\u001b[0m\u001b[0mdim\u001b[0m\u001b[0;34m(\u001b[0m\u001b[0;34m)\u001b[0m \u001b[0;34m==\u001b[0m \u001b[0;36m2\u001b[0m \u001b[0;32mand\u001b[0m \u001b[0mbias\u001b[0m \u001b[0;32mis\u001b[0m \u001b[0;32mnot\u001b[0m \u001b[0;32mNone\u001b[0m\u001b[0;34m:\u001b[0m\u001b[0;34m\u001b[0m\u001b[0m\n\u001b[1;32m   1369\u001b[0m         \u001b[0;31m# fused op is marginally faster\u001b[0m\u001b[0;34m\u001b[0m\u001b[0;34m\u001b[0m\u001b[0m\n\u001b[0;32m-> 1370\u001b[0;31m         \u001b[0mret\u001b[0m \u001b[0;34m=\u001b[0m \u001b[0mtorch\u001b[0m\u001b[0;34m.\u001b[0m\u001b[0maddmm\u001b[0m\u001b[0;34m(\u001b[0m\u001b[0mbias\u001b[0m\u001b[0;34m,\u001b[0m \u001b[0minput\u001b[0m\u001b[0;34m,\u001b[0m \u001b[0mweight\u001b[0m\u001b[0;34m.\u001b[0m\u001b[0mt\u001b[0m\u001b[0;34m(\u001b[0m\u001b[0;34m)\u001b[0m\u001b[0;34m)\u001b[0m\u001b[0;34m\u001b[0m\u001b[0m\n\u001b[0m\u001b[1;32m   1371\u001b[0m     \u001b[0;32melse\u001b[0m\u001b[0;34m:\u001b[0m\u001b[0;34m\u001b[0m\u001b[0m\n\u001b[1;32m   1372\u001b[0m         \u001b[0moutput\u001b[0m \u001b[0;34m=\u001b[0m \u001b[0minput\u001b[0m\u001b[0;34m.\u001b[0m\u001b[0mmatmul\u001b[0m\u001b[0;34m(\u001b[0m\u001b[0mweight\u001b[0m\u001b[0;34m.\u001b[0m\u001b[0mt\u001b[0m\u001b[0;34m(\u001b[0m\u001b[0;34m)\u001b[0m\u001b[0;34m)\u001b[0m\u001b[0;34m\u001b[0m\u001b[0m\n",
      "\u001b[0;31mRuntimeError\u001b[0m: size mismatch, m1: [4 x 150528], m2: [4 x 100] at /pytorch/aten/src/TH/generic/THTensorMath.cpp:197"
     ]
    }
   ],
   "source": [
    "model = MLP()\n",
    "print(model)\n",
    "optimizer = torch.optim.Adam(model.parameters(),lr=0.001)\n",
    "loss_fn = nn.CrossEntropyLoss()\n",
    "\n",
    "mean_train_losses = []\n",
    "mean_valid_losses = []\n",
    "epochs = 15\n",
    "\n",
    "for epoch in range(epochs):\n",
    "    \n",
    "    train_losses=[]\n",
    "    valid_losses=[]\n",
    "    \n",
    "    for phase in ['train', 'val']:\n",
    "        if phase == 'train':\n",
    "            model.train()  # Set model to training mode\n",
    "            for images,labels in dataloaders[phase]:\n",
    "            \n",
    "                optimizer.zero_grad()\n",
    "                print(images)\n",
    "                outputs = model(images)\n",
    "                loss = loss_fn(outputs,labels)\n",
    "                loss.backward()\n",
    "                optimizer.step()\n",
    "            \n",
    "                train_losses.append(loss.item())\n",
    "            \n",
    "                if(i*128) % (128*100) == 0:\n",
    "                    print('{i * 128} / 50000')\n",
    "                \n",
    "            model.eval()\n",
    "            correct = 0\n",
    "            total = 0\n",
    "        else:\n",
    "            with torch.no_grad():   # Set model to evaluate mode\n",
    "                for i, (images,labels) in dataloaders[phase]:\n",
    "                    outputs = model(images)\n",
    "                    loss = loss_fn(outputs,labels)\n",
    "                    \n",
    "                    valid_losses.append(loss.item())\n",
    "                    \n",
    "                    _, predicted = torch.max(outputs.data, 1)\n",
    "                    correct += (predicted == labels).sum().item()\n",
    "                    total += labels.size(0)\n",
    "            mean_train_losses.append(np.mean(train_losses))\n",
    "            mean_valid_losses.append(np.mean(valid_losses))\n",
    "            \n",
    "            accuracy = 100*correct/total\n",
    "            valid_acc_list.append(accuracy)\n",
    "            print('epoch : {}, train loss : {:.4f}, valid loss : {:.4f}, valid acc : {:.2f}%'\\\n",
    "         .format(epoch+1, np.mean(train_losses), np.mean(valid_losses), accuracy))"
   ]
  },
  {
   "cell_type": "code",
   "execution_count": 21,
   "metadata": {},
   "outputs": [
    {
     "name": "stdout",
     "output_type": "stream",
     "text": [
      "{'val': 1147, 'train': 2327}\n"
     ]
    }
   ],
   "source": [
    "print(dataset_sizes)"
   ]
  },
  {
   "cell_type": "code",
   "execution_count": null,
   "metadata": {},
   "outputs": [],
   "source": []
  }
 ],
 "metadata": {
  "kernelspec": {
   "display_name": "Python 3",
   "language": "python",
   "name": "python3"
  },
  "language_info": {
   "codemirror_mode": {
    "name": "ipython",
    "version": 3
   },
   "file_extension": ".py",
   "mimetype": "text/x-python",
   "name": "python",
   "nbconvert_exporter": "python",
   "pygments_lexer": "ipython3",
   "version": "3.5.2"
  }
 },
 "nbformat": 4,
 "nbformat_minor": 2
}
